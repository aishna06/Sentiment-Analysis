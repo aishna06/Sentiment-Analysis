{
 "cells": [
  {
   "cell_type": "code",
   "execution_count": null,
   "metadata": {},
   "outputs": [],
   "source": [
    "#Import libraries\n",
    "import tweepy\n",
    "from textblob import TextBlob\n",
    "from wordcloud import WordCloud\n",
    "import pandas as pd\n",
    "import numpy as np\n",
    "import re\n",
    "import matplotlib.pyplot as plt\n",
    "plt.style.use('fivethirtyeight')"
   ]
  },
  {
   "cell_type": "code",
   "execution_count": null,
   "metadata": {},
   "outputs": [],
   "source": [
    "#Twitter credentials for the app\n",
    "consumerkey = '****************************'\n",
    "consumersecret = '****************************'\n",
    "accesstoken= '****************************'\n",
    "accesstokensecret = '****************************'"
   ]
  },
  {
   "cell_type": "code",
   "execution_count": null,
   "metadata": {},
   "outputs": [],
   "source": [
    "#Create authentication object\n",
    "authenticate = tweepy.OAuthHandler(consumerkey, consumersecret)\n",
    "\n",
    "#Create access and access secret token\n",
    "authenticate.set_access_token(accesstoken, accesstokensecret)\n",
    "\n",
    "#Create API object\n",
    "api = tweepy.API(authenticate, wait_on_rate_limit = True)"
   ]
  },
  {
   "cell_type": "code",
   "execution_count": null,
   "metadata": {},
   "outputs": [],
   "source": [
    "#Extract 200 tweets from Donald Trump\n",
    "posts = api.user_timeline (screen_name = \"RealDonaldTrump\", count = 200, lang=\"en\", tweet_mode= \"extended\")\n",
    "#tweet mode extended - full text of tweet\n",
    "\n",
    "#Print the last 5 tweets \n",
    "print(\"Show the 5 recent tweets: \\n\")\n",
    "i=1\n",
    "for tweet in posts[0:5]:\n",
    "    print(str(i) + '. ' +tweet.full_text + '\\n')\n",
    "    i=i+1"
   ]
  },
  {
   "cell_type": "code",
   "execution_count": null,
   "metadata": {},
   "outputs": [],
   "source": [
    "#Create dataframe\n",
    "df=pd.DataFrame( [tweet.full_text for tweet in posts], columns = ['Tweets'])\n",
    "\n",
    "#See first 5 rows\n",
    "df.head()"
   ]
  },
  {
   "cell_type": "code",
   "execution_count": null,
   "metadata": {},
   "outputs": [],
   "source": [
    "#Clean the data\n",
    "def cleanTxT(text):\n",
    "    text = re.sub(r'@[A-Za-z0-9_:]+','', text)   #Removes @ mentions (the r tells python it is a raw string)\n",
    "    text=re.sub(r'#','',text)    #Removes hashes\n",
    "    text=re.sub(r'LIVE','', text)   #Removes LIVE\n",
    "    text=re.sub(r'NOW','', text)    #Removes NOW\n",
    "    text=re.sub(r'RT[\\s]+', '', text)    #Removes RT\n",
    "    text=re.sub(r'https?:\\/\\/\\S+','',text)    #Removes URLs\n",
    "    return text\n",
    "\n",
    "\n",
    "df['Tweets'] = df['Tweets'].apply(cleanTxT)\n",
    "\n",
    "df.head()\n",
    "    "
   ]
  },
  {
   "cell_type": "code",
   "execution_count": null,
   "metadata": {},
   "outputs": [],
   "source": [
    "#Create function to get subjectivity \n",
    "def getSubjectivity(text):\n",
    "    return TextBlob(text).sentiment.subjectivity\n",
    "\n",
    "#Create function to get polarity \n",
    "def getPolarity(text):\n",
    "    return TextBlob(text).sentiment.polarity\n",
    "\n",
    "#Create new cols\n",
    "df['Subjectivity']=df['Tweets'].apply(getSubjectivity)\n",
    "df['Polarity']=df['Tweets'].apply(getPolarity)\n",
    "\n",
    "df.head()"
   ]
  },
  {
   "cell_type": "code",
   "execution_count": null,
   "metadata": {},
   "outputs": [],
   "source": [
    "#Wordcloud\n",
    "allWords=' '.join([twts for twts in df['Tweets']])\n",
    "wordCloud = WordCloud(width=5000, height=3000, random_state=21, max_font_size=1500).generate(allWords)\n",
    "\n",
    "plt.imshow(wordCloud, interpolation = 'bilinear')\n",
    "plt.axis('off')\n",
    "plt.show()"
   ]
  },
  {
   "cell_type": "code",
   "execution_count": null,
   "metadata": {},
   "outputs": [],
   "source": [
    "#Compute negative, positive, neutral analyses\n",
    "def getAnalysis(score):\n",
    "    if score<0:\n",
    "        return 'Negative'\n",
    "    elif score==0:\n",
    "        return 'Neutral'\n",
    "    else:\n",
    "        return 'Positive'\n",
    "    \n",
    "df['Analysis']=df['Polarity'].apply(getAnalysis)\n",
    "\n",
    "df.head()"
   ]
  },
  {
   "cell_type": "code",
   "execution_count": null,
   "metadata": {},
   "outputs": [],
   "source": [
    "#Print all positive tweets\n",
    "j=1\n",
    "sortedDF= df.sort_values(by=['Polarity'])\n",
    "for i in range(0,sortedDF.shape[0]):\n",
    "    if (sortedDF['Analysis'][i]=='Positive'):\n",
    "        print(str(j) + '. ' +sortedDF['Tweets'][i])\n",
    "        print()\n",
    "        j=j+1"
   ]
  },
  {
   "cell_type": "code",
   "execution_count": null,
   "metadata": {},
   "outputs": [],
   "source": [
    "#Print all negative tweets\n",
    "j=1\n",
    "sortedDF= df.sort_values(by=['Polarity'], ascending=False)\n",
    "for i in range(0,sortedDF.shape[0]):\n",
    "    if (sortedDF['Analysis'][i]=='Negative'):\n",
    "        print(str(j) + '. ' +sortedDF['Tweets'][i])\n",
    "        print()\n",
    "        j=j+1"
   ]
  },
  {
   "cell_type": "code",
   "execution_count": null,
   "metadata": {},
   "outputs": [],
   "source": [
    "#Plot the Polarity and subjectivity\n",
    "plt.figure(figsize=(8,6))\n",
    "for i in range(0,df.shape[0]):\n",
    "    plt.scatter(df['Polarity'][i],df['Subjectivity'][i],color='Blue')\n",
    "    \n",
    "    \n",
    "plt.title('Sentiment Analysis')\n",
    "plt.xlabel('Polarity')\n",
    "plt.ylabel('Subjectivity')\n",
    "plt.show()\n",
    "    "
   ]
  },
  {
   "cell_type": "code",
   "execution_count": null,
   "metadata": {},
   "outputs": [],
   "source": [
    "#Percentage of Positive Tweets\n",
    "ptweets = df[df.Analysis == 'Positive']\n",
    "ptweets = ptweets['Tweets']\n",
    "\n",
    "ptweets.head()"
   ]
  },
  {
   "cell_type": "code",
   "execution_count": null,
   "metadata": {},
   "outputs": [],
   "source": [
    "round((ptweets.shape[0]/df.shape[0])*100,1)"
   ]
  },
  {
   "cell_type": "code",
   "execution_count": null,
   "metadata": {},
   "outputs": [],
   "source": [
    "#Show the value counts\n",
    "df['Analysis'].value_counts()\n",
    "\n",
    "#Visualise counts\n",
    "plt.title('Sentiment Analysis')\n",
    "plt.xlabel('Sentiment')\n",
    "plt.ylabel('Counts')\n",
    "df['Analysis'].value_counts().plot(kind='bar')\n",
    "plt.show()"
   ]
  }
 ],
 "metadata": {
  "kernelspec": {
   "display_name": "Python 3",
   "language": "python",
   "name": "python3"
  },
  "language_info": {
   "codemirror_mode": {
    "name": "ipython",
    "version": 3
   },
   "file_extension": ".py",
   "mimetype": "text/x-python",
   "name": "python",
   "nbconvert_exporter": "python",
   "pygments_lexer": "ipython3",
   "version": "3.7.1"
  }
 },
 "nbformat": 4,
 "nbformat_minor": 2
}
